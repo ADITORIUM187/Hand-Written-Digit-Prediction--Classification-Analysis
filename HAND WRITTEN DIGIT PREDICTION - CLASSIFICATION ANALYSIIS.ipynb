{
 "cells": [
  {
   "cell_type": "markdown",
   "id": "0e57681c",
   "metadata": {},
   "source": [
    "# Hand Written Digit Prediction- Classification Analysis"
   ]
  },
  {
   "cell_type": "markdown",
   "id": "8d37f772",
   "metadata": {},
   "source": [
    "# Import Library"
   ]
  },
  {
   "cell_type": "code",
   "execution_count": 40,
   "id": "18163d89",
   "metadata": {},
   "outputs": [],
   "source": [
    "import pandas as pd\n",
    "import numpy as np\n",
    "import matplotlib.pyplot as plt"
   ]
  },
  {
   "cell_type": "markdown",
   "id": "ba74000f",
   "metadata": {},
   "source": [
    "## Import Data"
   ]
  },
  {
   "cell_type": "code",
   "execution_count": 2,
   "id": "b600a0f7",
   "metadata": {},
   "outputs": [],
   "source": [
    "from sklearn.datasets import load_digits"
   ]
  },
  {
   "cell_type": "code",
   "execution_count": 3,
   "id": "6532c22e",
   "metadata": {},
   "outputs": [],
   "source": [
    "df = load_digits()"
   ]
  },
  {
   "cell_type": "code",
   "execution_count": 12,
   "id": "a9db961f",
   "metadata": {},
   "outputs": [
    {
     "data": {
      "image/png": "[encoded data removed]",
      "text/plain": [
       "<Figure size 720x216 with 4 Axes>"
      ]
     },
     "metadata": {
      "needs_background": "light"
     },
     "output_type": "display_data"
    }
   ],
   "source": [
    "_, axes = plt.subplots(nrows=1, ncols=4, figsize=(10, 3))\n",
    "for ax, image, label in zip(axes, df.images, df.target):\n",
    "    ax.set_axis_off()\n",
    "    ax.imshow(image, cmap=plt.cm.gray_r, interpolation=\"nearest\")\n",
    "    ax.set_title(\"Training: %i\" % label)"
   ]
  },
  {
   "cell_type": "markdown",
   "id": "35551ea2",
   "metadata": {},
   "source": [
    "## Data Preprocessing"
   ]
  },
  {
   "cell_type": "code",
   "execution_count": 14,
   "id": "5f1b1d37",
   "metadata": {},
   "outputs": [
    {
     "data": {
      "text/plain": [
       "(1797, 8, 8)"
      ]
     },
     "execution_count": 14,
     "metadata": {},
     "output_type": "execute_result"
    }
   ],
   "source": [
    "df.images.shape"
   ]
  },
  {
   "cell_type": "code",
   "execution_count": 15,
   "id": "f0b9e5f1",
   "metadata": {},
   "outputs": [
    {
     "data": {
      "text/plain": [
       "array([[ 0.,  0.,  5., 13.,  9.,  1.,  0.,  0.],\n",
       "       [ 0.,  0., 13., 15., 10., 15.,  5.,  0.],\n",
       "       [ 0.,  3., 15.,  2.,  0., 11.,  8.,  0.],\n",
       "       [ 0.,  4., 12.,  0.,  0.,  8.,  8.,  0.],\n",
       "       [ 0.,  5.,  8.,  0.,  0.,  9.,  8.,  0.],\n",
       "       [ 0.,  4., 11.,  0.,  1., 12.,  7.,  0.],\n",
       "       [ 0.,  2., 14.,  5., 10., 12.,  0.,  0.],\n",
       "       [ 0.,  0.,  6., 13., 10.,  0.,  0.,  0.]])"
      ]
     },
     "execution_count": 15,
     "metadata": {},
     "output_type": "execute_result"
    }
   ],
   "source": [
    "df.images[0]"
   ]
  },
  {
   "cell_type": "code",
   "execution_count": 16,
   "id": "8e430a31",
   "metadata": {},
   "outputs": [
    {
     "data": {
      "text/plain": [
       "(8, 8)"
      ]
     },
     "execution_count": 16,
     "metadata": {},
     "output_type": "execute_result"
    }
   ],
   "source": [
    "df.images[0].shape"
   ]
  },
  {
   "cell_type": "code",
   "execution_count": 17,
   "id": "8e680465",
   "metadata": {},
   "outputs": [
    {
     "data": {
      "text/plain": [
       "1797"
      ]
     },
     "execution_count": 17,
     "metadata": {},
     "output_type": "execute_result"
    }
   ],
   "source": [
    "len(df.images)"
   ]
  },
  {
   "cell_type": "code",
   "execution_count": 18,
   "id": "df9d0024",
   "metadata": {},
   "outputs": [],
   "source": [
    "n_samples = len(df.images)\n",
    "data =df.images.reshape((n_samples, -1))"
   ]
  },
  {
   "cell_type": "code",
   "execution_count": 19,
   "id": "f2fb6c81",
   "metadata": {},
   "outputs": [
    {
     "data": {
      "text/plain": [
       "array([ 0.,  0.,  5., 13.,  9.,  1.,  0.,  0.,  0.,  0., 13., 15., 10.,\n",
       "       15.,  5.,  0.,  0.,  3., 15.,  2.,  0., 11.,  8.,  0.,  0.,  4.,\n",
       "       12.,  0.,  0.,  8.,  8.,  0.,  0.,  5.,  8.,  0.,  0.,  9.,  8.,\n",
       "        0.,  0.,  4., 11.,  0.,  1., 12.,  7.,  0.,  0.,  2., 14.,  5.,\n",
       "       10., 12.,  0.,  0.,  0.,  0.,  6., 13., 10.,  0.,  0.,  0.])"
      ]
     },
     "execution_count": 19,
     "metadata": {},
     "output_type": "execute_result"
    }
   ],
   "source": [
    "data[0]"
   ]
  },
  {
   "cell_type": "code",
   "execution_count": 20,
   "id": "8b50f884",
   "metadata": {},
   "outputs": [
    {
     "data": {
      "text/plain": [
       "(64,)"
      ]
     },
     "execution_count": 20,
     "metadata": {},
     "output_type": "execute_result"
    }
   ],
   "source": [
    "data[0].shape"
   ]
  },
  {
   "cell_type": "code",
   "execution_count": 21,
   "id": "41b18e4a",
   "metadata": {},
   "outputs": [
    {
     "data": {
      "text/plain": [
       "(1797, 64)"
      ]
     },
     "execution_count": 21,
     "metadata": {},
     "output_type": "execute_result"
    }
   ],
   "source": [
    "data.shape"
   ]
  },
  {
   "cell_type": "markdown",
   "id": "bd4f5cae",
   "metadata": {},
   "source": [
    "## Scaling Image Data"
   ]
  },
  {
   "cell_type": "code",
   "execution_count": 22,
   "id": "89bfab31",
   "metadata": {},
   "outputs": [
    {
     "data": {
      "text/plain": [
       "0.0"
      ]
     },
     "execution_count": 22,
     "metadata": {},
     "output_type": "execute_result"
    }
   ],
   "source": [
    "data.min()"
   ]
  },
  {
   "cell_type": "code",
   "execution_count": 23,
   "id": "c21bbf58",
   "metadata": {},
   "outputs": [
    {
     "data": {
      "text/plain": [
       "16.0"
      ]
     },
     "execution_count": 23,
     "metadata": {},
     "output_type": "execute_result"
    }
   ],
   "source": [
    "data.max()"
   ]
  },
  {
   "cell_type": "code",
   "execution_count": 24,
   "id": "66718fe3",
   "metadata": {},
   "outputs": [],
   "source": [
    "data = data/16"
   ]
  },
  {
   "cell_type": "code",
   "execution_count": 25,
   "id": "407c24a7",
   "metadata": {},
   "outputs": [
    {
     "data": {
      "text/plain": [
       "0.0"
      ]
     },
     "execution_count": 25,
     "metadata": {},
     "output_type": "execute_result"
    }
   ],
   "source": [
    "data.min()"
   ]
  },
  {
   "cell_type": "code",
   "execution_count": 26,
   "id": "944c39b0",
   "metadata": {},
   "outputs": [
    {
     "data": {
      "text/plain": [
       "1.0"
      ]
     },
     "execution_count": 26,
     "metadata": {},
     "output_type": "execute_result"
    }
   ],
   "source": [
    "data.max()"
   ]
  },
  {
   "cell_type": "code",
   "execution_count": 27,
   "id": "fbe5335b",
   "metadata": {},
   "outputs": [
    {
     "data": {
      "text/plain": [
       "array([0.    , 0.    , 0.3125, 0.8125, 0.5625, 0.0625, 0.    , 0.    ,\n",
       "       0.    , 0.    , 0.8125, 0.9375, 0.625 , 0.9375, 0.3125, 0.    ,\n",
       "       0.    , 0.1875, 0.9375, 0.125 , 0.    , 0.6875, 0.5   , 0.    ,\n",
       "       0.    , 0.25  , 0.75  , 0.    , 0.    , 0.5   , 0.5   , 0.    ,\n",
       "       0.    , 0.3125, 0.5   , 0.    , 0.    , 0.5625, 0.5   , 0.    ,\n",
       "       0.    , 0.25  , 0.6875, 0.    , 0.0625, 0.75  , 0.4375, 0.    ,\n",
       "       0.    , 0.125 , 0.875 , 0.3125, 0.625 , 0.75  , 0.    , 0.    ,\n",
       "       0.    , 0.    , 0.375 , 0.8125, 0.625 , 0.    , 0.    , 0.    ])"
      ]
     },
     "execution_count": 27,
     "metadata": {},
     "output_type": "execute_result"
    }
   ],
   "source": [
    "data[0]"
   ]
  },
  {
   "cell_type": "markdown",
   "id": "26740e2b",
   "metadata": {},
   "source": [
    "## Train Test Split Data"
   ]
  },
  {
   "cell_type": "code",
   "execution_count": 29,
   "id": "7b4dedf6",
   "metadata": {},
   "outputs": [],
   "source": [
    "from sklearn.model_selection import train_test_split\n",
    "x_train, x_test, y_train, y_test = train_test_split(data, df.target, test_size= 0.3)"
   ]
  },
  {
   "cell_type": "code",
   "execution_count": 30,
   "id": "b50dd3a5",
   "metadata": {},
   "outputs": [
    {
     "data": {
      "text/plain": [
       "((1257, 64), (540, 64), (1257,), (540,))"
      ]
     },
     "execution_count": 30,
     "metadata": {},
     "output_type": "execute_result"
    }
   ],
   "source": [
    "x_train.shape, x_test.shape, y_train.shape, y_test.shape"
   ]
  },
  {
   "cell_type": "markdown",
   "id": "737314fc",
   "metadata": {},
   "source": [
    "## Random Forest Model"
   ]
  },
  {
   "cell_type": "code",
   "execution_count": 31,
   "id": "443c64c7",
   "metadata": {},
   "outputs": [],
   "source": [
    "from sklearn.ensemble import RandomForestClassifier"
   ]
  },
  {
   "cell_type": "code",
   "execution_count": 32,
   "id": "ec783832",
   "metadata": {},
   "outputs": [],
   "source": [
    "rf = RandomForestClassifier()"
   ]
  },
  {
   "cell_type": "code",
   "execution_count": 33,
   "id": "4d986fd7",
   "metadata": {},
   "outputs": [
    {
     "data": {
      "text/plain": [
       "RandomForestClassifier()"
      ]
     },
     "execution_count": 33,
     "metadata": {},
     "output_type": "execute_result"
    }
   ],
   "source": [
    "rf.fit(x_train, y_train)"
   ]
  },
  {
   "cell_type": "markdown",
   "id": "34b1e80a",
   "metadata": {},
   "source": [
    "## Predict Test Data"
   ]
  },
  {
   "cell_type": "code",
   "execution_count": 34,
   "id": "f1551cca",
   "metadata": {},
   "outputs": [],
   "source": [
    "y_pred = rf.predict(x_test)"
   ]
  },
  {
   "cell_type": "code",
   "execution_count": 35,
   "id": "1fdacb1a",
   "metadata": {},
   "outputs": [
    {
     "data": {
      "text/plain": [
       "array([0, 7, 4, 7, 7, 7, 6, 2, 6, 0, 1, 3, 7, 7, 5, 2, 7, 4, 1, 9, 6, 4,\n",
       "       0, 5, 9, 4, 0, 0, 6, 4, 5, 5, 9, 1, 7, 3, 8, 0, 3, 6, 2, 4, 8, 4,\n",
       "       5, 2, 1, 5, 5, 0, 7, 3, 3, 4, 6, 2, 5, 8, 5, 4, 8, 8, 0, 6, 9, 1,\n",
       "       7, 2, 8, 1, 0, 8, 0, 6, 8, 2, 2, 3, 4, 9, 1, 3, 4, 7, 5, 3, 9, 1,\n",
       "       6, 2, 3, 3, 2, 0, 4, 6, 7, 2, 4, 5, 9, 5, 0, 6, 8, 8, 9, 2, 3, 2,\n",
       "       5, 3, 1, 5, 7, 0, 5, 8, 1, 6, 7, 6, 2, 6, 0, 8, 3, 1, 8, 1, 7, 1,\n",
       "       8, 1, 4, 4, 8, 9, 4, 2, 3, 3, 6, 6, 9, 8, 5, 0, 6, 6, 0, 1, 9, 9,\n",
       "       3, 9, 6, 0, 7, 2, 7, 7, 9, 5, 4, 9, 5, 8, 4, 0, 7, 6, 0, 9, 2, 3,\n",
       "       2, 9, 8, 0, 4, 7, 2, 3, 6, 6, 6, 5, 1, 0, 0, 0, 6, 1, 0, 5, 3, 6,\n",
       "       4, 2, 9, 5, 3, 1, 1, 2, 7, 1, 2, 0, 1, 5, 1, 9, 4, 6, 8, 5, 0, 0,\n",
       "       7, 2, 8, 1, 9, 3, 2, 3, 7, 8, 2, 9, 6, 4, 0, 6, 4, 8, 2, 6, 5, 6,\n",
       "       5, 7, 0, 4, 4, 1, 2, 9, 9, 5, 1, 4, 2, 2, 0, 3, 5, 5, 8, 5, 3, 4,\n",
       "       2, 1, 7, 7, 3, 2, 5, 1, 2, 6, 5, 7, 1, 0, 1, 7, 0, 0, 3, 0, 7, 9,\n",
       "       9, 7, 6, 0, 1, 6, 2, 5, 1, 2, 2, 5, 9, 2, 8, 2, 2, 1, 4, 5, 6, 7,\n",
       "       5, 8, 8, 2, 2, 9, 6, 5, 1, 1, 4, 0, 0, 8, 8, 6, 0, 8, 0, 8, 3, 7,\n",
       "       3, 8, 2, 8, 9, 6, 9, 7, 9, 3, 8, 8, 4, 6, 2, 3, 3, 1, 5, 8, 8, 7,\n",
       "       1, 6, 3, 2, 5, 1, 3, 6, 9, 3, 1, 9, 7, 6, 0, 7, 3, 7, 9, 4, 4, 6,\n",
       "       5, 8, 5, 6, 3, 4, 1, 7, 6, 9, 2, 3, 1, 8, 3, 4, 9, 8, 8, 8, 7, 5,\n",
       "       7, 2, 7, 7, 1, 4, 7, 0, 9, 3, 1, 1, 9, 3, 8, 0, 2, 3, 4, 9, 7, 0,\n",
       "       9, 3, 0, 8, 5, 2, 6, 6, 9, 0, 0, 5, 3, 4, 6, 0, 1, 6, 7, 4, 2, 7,\n",
       "       2, 9, 4, 3, 9, 3, 3, 7, 7, 7, 3, 4, 9, 6, 9, 2, 1, 2, 4, 7, 9, 9,\n",
       "       0, 5, 1, 1, 4, 6, 6, 4, 9, 1, 1, 2, 6, 1, 6, 8, 3, 6, 7, 8, 6, 0,\n",
       "       5, 0, 0, 0, 0, 2, 0, 8, 5, 3, 0, 7, 1, 7, 4, 1, 5, 7, 6, 7, 3, 9,\n",
       "       7, 2, 1, 6, 3, 4, 1, 2, 3, 8, 4, 0, 3, 9, 3, 3, 6, 9, 1, 1, 5, 1,\n",
       "       5, 7, 6, 8, 8, 6, 7, 6, 0, 9, 0, 2])"
      ]
     },
     "execution_count": 35,
     "metadata": {},
     "output_type": "execute_result"
    }
   ],
   "source": [
    "y_pred"
   ]
  },
  {
   "cell_type": "markdown",
   "id": "6192940e",
   "metadata": {},
   "source": [
    "## Model Accuracy"
   ]
  },
  {
   "cell_type": "code",
   "execution_count": 37,
   "id": "bc7f0db0",
   "metadata": {},
   "outputs": [],
   "source": [
    "from sklearn.metrics import confusion_matrix, classification_report"
   ]
  },
  {
   "cell_type": "code",
   "execution_count": 38,
   "id": "a902a686",
   "metadata": {},
   "outputs": [
    {
     "data": {
      "text/plain": [
       "array([[57,  0,  0,  0,  1,  0,  0,  0,  0,  0],\n",
       "       [ 0, 57,  0,  0,  0,  0,  0,  0,  0,  0],\n",
       "       [ 0,  0, 56,  0,  0,  0,  0,  0,  0,  0],\n",
       "       [ 1,  0,  0, 55,  0,  1,  0,  1,  0,  0],\n",
       "       [ 0,  0,  0,  0, 43,  0,  0,  0,  0,  0],\n",
       "       [ 0,  0,  0,  0,  1, 47,  1,  0,  0,  0],\n",
       "       [ 0,  0,  0,  0,  0,  0, 60,  0,  0,  0],\n",
       "       [ 0,  0,  0,  0,  1,  0,  0, 55,  1,  0],\n",
       "       [ 0,  0,  0,  0,  0,  0,  0,  0, 47,  1],\n",
       "       [ 0,  0,  0,  0,  0,  1,  0,  2,  1, 50]], dtype=int64)"
      ]
     },
     "execution_count": 38,
     "metadata": {},
     "output_type": "execute_result"
    }
   ],
   "source": [
    "confusion_matrix(y_test, y_pred)"
   ]
  },
  {
   "cell_type": "code",
   "execution_count": 39,
   "id": "45bcdad0",
   "metadata": {},
   "outputs": [
    {
     "name": "stdout",
     "output_type": "stream",
     "text": [
      "              precision    recall  f1-score   support\n",
      "\n",
      "           0       0.98      0.98      0.98        58\n",
      "           1       1.00      1.00      1.00        57\n",
      "           2       1.00      1.00      1.00        56\n",
      "           3       1.00      0.95      0.97        58\n",
      "           4       0.93      1.00      0.97        43\n",
      "           5       0.96      0.96      0.96        49\n",
      "           6       0.98      1.00      0.99        60\n",
      "           7       0.95      0.96      0.96        57\n",
      "           8       0.96      0.98      0.97        48\n",
      "           9       0.98      0.93      0.95        54\n",
      "\n",
      "    accuracy                           0.98       540\n",
      "   macro avg       0.97      0.98      0.98       540\n",
      "weighted avg       0.98      0.98      0.98       540\n",
      "\n"
     ]
    }
   ],
   "source": [
    "print(classification_report(y_test, y_pred))"
   ]
  },
  {
   "cell_type": "code",
   "execution_count": null,
   "id": "546550e1",
   "metadata": {},
   "outputs": [],
   "source": []
  },
  {
   "cell_type": "code",
   "execution_count": null,
   "id": "7b941eb3",
   "metadata": {},
   "outputs": [],
   "source": []
  },
  {
   "cell_type": "code",
   "execution_count": null,
   "id": "6135ec2b",
   "metadata": {},
   "outputs": [],
   "source": []
  },
  {
   "cell_type": "code",
   "execution_count": null,
   "id": "17d2193a",
   "metadata": {},
   "outputs": [],
   "source": []
  },
  {
   "cell_type": "code",
   "execution_count": null,
   "id": "8606a187",
   "metadata": {},
   "outputs": [],
   "source": []
  },
  {
   "cell_type": "code",
   "execution_count": null,
   "id": "311fc77f",
   "metadata": {},
   "outputs": [],
   "source": []
  },
  {
   "cell_type": "code",
   "execution_count": null,
   "id": "46e0a937",
   "metadata": {},
   "outputs": [],
   "source": []
  },
  {
   "cell_type": "code",
   "execution_count": null,
   "id": "621dcb8d",
   "metadata": {},
   "outputs": [],
   "source": []
  }
 ],
 "metadata": {
  "kernelspec": {
   "display_name": "Python 3 (ipykernel)",
   "language": "python",
   "name": "python3"
  },
  "language_info": {
   "codemirror_mode": {
    "name": "ipython",
    "version": 3
   },
   "file_extension": ".py",
   "mimetype": "text/x-python",
   "name": "python",
   "nbconvert_exporter": "python",
   "pygments_lexer": "ipython3",
   "version": "3.9.12"
  }
 },
 "nbformat": 4,
 "nbformat_minor": 5
}
